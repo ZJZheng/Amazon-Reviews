{
 "cells": [
  {
   "cell_type": "code",
   "execution_count": 2,
   "metadata": {},
   "outputs": [],
   "source": [
    "import numpy as np \n",
    "import tensorflow as tf \n",
    "import keras\n",
    "from keras.models import Sequential\n",
    "from keras.layers.core import Dense, Activation, Flatten, Dropout\n",
    "from matplotlib import pyplot as plt\n",
    "%matplotlib inline"
   ]
  },
  {
   "cell_type": "code",
   "execution_count": 3,
   "metadata": {},
   "outputs": [],
   "source": [
    "def load_data(filename):\n",
    "    \"\"\"\n",
    "    Function loads data stored in the file filename and returns it as a numpy ndarray.\n",
    "    \n",
    "    Inputs:\n",
    "        filename: given as a string.\n",
    "        \n",
    "    Outputs:\n",
    "        Data contained in the file, returned as a numpy ndarray\n",
    "    \"\"\"\n",
    "    return np.loadtxt(filename, skiprows=1,delimiter=' ')"
   ]
  },
  {
   "cell_type": "code",
   "execution_count": 4,
   "metadata": {},
   "outputs": [],
   "source": [
    "Xtrain = load_data('training_data.txt')[:,1:]\n",
    "ytrain = load_data('training_data.txt')[:,0]\n",
    "Xtest = load_data('test_data.txt')"
   ]
  },
  {
   "cell_type": "code",
   "execution_count": 5,
   "metadata": {},
   "outputs": [],
   "source": [
    "def classification_err(y, real_y):\n",
    "    \"\"\"\n",
    "    This function returns the classification error between two equally-sized vectors of \n",
    "    labels; this is the fraction of samples for which the labels differ.\n",
    "    \n",
    "    Inputs:\n",
    "        y: (N, ) shaped array of predicted labels\n",
    "        real_y: (N, ) shaped array of true labels\n",
    "    Output:\n",
    "        Scalar classification error\n",
    "    \"\"\" \n",
    "    clferror=0\n",
    "    for i in range(y.shape[0]):\n",
    "        if y[i] != real_y[i]:              # if predicted incorrectly\n",
    "            clferror += 1                  # error add 1\n",
    "    \n",
    "    clferror = clferror/y.shape[0]         # the classification error\n",
    "    return clferror"
   ]
  },
  {
   "cell_type": "code",
   "execution_count": 27,
   "metadata": {},
   "outputs": [
    {
     "name": "stdout",
     "output_type": "stream",
     "text": [
      "(10000, 1000) (10000,) (10000, 1000) (10000,)\n",
      "Epoch 1/20\n",
      "10000/10000 [==============================] - 2s 151us/step - loss: 0.6252 - acc: 0.7453\n",
      "Epoch 2/20\n",
      "10000/10000 [==============================] - 0s 49us/step - loss: 0.5958 - acc: 0.8339\n",
      "Epoch 3/20\n",
      "10000/10000 [==============================] - 1s 51us/step - loss: 0.5489 - acc: 0.8450\n",
      "Epoch 4/20\n",
      "10000/10000 [==============================] - 1s 62us/step - loss: 0.5511 - acc: 0.8549\n",
      "Epoch 5/20\n",
      "10000/10000 [==============================] - 1s 50us/step - loss: 0.5547 - acc: 0.8562\n",
      "Epoch 6/20\n",
      "10000/10000 [==============================] - 0s 50us/step - loss: 0.5405 - acc: 0.8612\n",
      "Epoch 7/20\n",
      "10000/10000 [==============================] - 1s 55us/step - loss: 0.5443 - acc: 0.8656\n",
      "Epoch 8/20\n",
      "10000/10000 [==============================] - 0s 49us/step - loss: 0.5347 - acc: 0.8709\n",
      "Epoch 9/20\n",
      "10000/10000 [==============================] - 1s 60us/step - loss: 0.5170 - acc: 0.8699\n",
      "Epoch 10/20\n",
      "10000/10000 [==============================] - 1s 65us/step - loss: 0.5391 - acc: 0.8758\n",
      "Epoch 11/20\n",
      "10000/10000 [==============================] - 1s 59us/step - loss: 0.5209 - acc: 0.8708\n",
      "Epoch 12/20\n",
      "10000/10000 [==============================] - 0s 49us/step - loss: 0.5336 - acc: 0.8765\n",
      "Epoch 13/20\n",
      "10000/10000 [==============================] - 1s 53us/step - loss: 0.5354 - acc: 0.8789\n",
      "Epoch 14/20\n",
      "10000/10000 [==============================] - 0s 45us/step - loss: 0.5207 - acc: 0.8753\n",
      "Epoch 15/20\n",
      "10000/10000 [==============================] - 0s 45us/step - loss: 0.5612 - acc: 0.8723\n",
      "Epoch 16/20\n",
      "10000/10000 [==============================] - 1s 52us/step - loss: 0.5482 - acc: 0.8790\n",
      "Epoch 17/20\n",
      "10000/10000 [==============================] - 0s 47us/step - loss: 0.5484 - acc: 0.8784\n",
      "Epoch 18/20\n",
      "10000/10000 [==============================] - 1s 67us/step - loss: 0.5769 - acc: 0.8804\n",
      "Epoch 19/20\n",
      "10000/10000 [==============================] - 1s 51us/step - loss: 0.5219 - acc: 0.8828\n",
      "Epoch 20/20\n",
      "10000/10000 [==============================] - 1s 53us/step - loss: 0.5389 - acc: 0.8784\n",
      "10000/10000 [==============================] - 1s 88us/step\n",
      "Test score: 0.8351217948675156\n",
      "Test accuracy: 0.8417\n"
     ]
    }
   ],
   "source": [
    "# Run this cell multiple times\n",
    "idx = np.random.permutation(Xtrain.shape[0])\n",
    "XtrainN= Xtrain[idx]\n",
    "ytrainN = ytrain[idx]\n",
    "Xtr = XtrainN[0:10000,:]\n",
    "ytr = ytrainN[0:10000]\n",
    "Xval = XtrainN[10000:20001,:]\n",
    "yval = ytrainN[10000:20001]\n",
    "print(Xtr.shape,ytr.shape,Xval.shape,yval.shape)\n",
    "\n",
    "neural = Sequential()\n",
    "neural.add(Dense(100,input_dim=Xtr.shape[1]))\n",
    "neural.add(Activation('linear'))\n",
    "neural.add(Dropout(0.3))\n",
    "neural.add(Dense(80))\n",
    "neural.add(Activation('linear'))\n",
    "neural.add(Dropout(0.3))\n",
    "neural.add(Dense(60))\n",
    "neural.add(Activation('linear'))\n",
    "neural.add(Dropout(0.3))\n",
    "\n",
    "# The output layer\n",
    "neural.add(Dense(1))\n",
    "neural.add(Activation('hard_sigmoid'))\n",
    "\n",
    "neural.compile(loss='binary_crossentropy',optimizer='rmsprop', metrics=['accuracy'])\n",
    "\n",
    "fit = neural.fit(Xtr, ytr, batch_size = 128, epochs = 20, verbose=1)\n",
    "\n",
    "scores = neural.evaluate(Xval,yval)\n",
    "print('Test score:', scores[0])\n",
    "print('Test accuracy:', scores[1])"
   ]
  },
  {
   "cell_type": "code",
   "execution_count": null,
   "metadata": {},
   "outputs": [],
   "source": []
  }
 ],
 "metadata": {
  "kernelspec": {
   "display_name": "Python 3",
   "language": "python",
   "name": "python3"
  },
  "language_info": {
   "codemirror_mode": {
    "name": "ipython",
    "version": 3
   },
   "file_extension": ".py",
   "mimetype": "text/x-python",
   "name": "python",
   "nbconvert_exporter": "python",
   "pygments_lexer": "ipython3",
   "version": "3.6.4"
  }
 },
 "nbformat": 4,
 "nbformat_minor": 2
}
