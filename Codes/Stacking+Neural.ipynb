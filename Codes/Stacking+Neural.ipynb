{
 "cells": [
  {
   "cell_type": "code",
   "execution_count": 1,
   "metadata": {},
   "outputs": [
    {
     "name": "stderr",
     "output_type": "stream",
     "text": [
      "Using TensorFlow backend.\n"
     ]
    }
   ],
   "source": [
    "import numpy as np\n",
    "from sklearn.svm import LinearSVC,SVC, NuSVC\n",
    "from sklearn.linear_model import LogisticRegression\n",
    "from sklearn.naive_bayes import GaussianNB, MultinomialNB\n",
    "from sklearn.ensemble import RandomForestClassifier, VotingClassifier\n",
    "from sklearn.linear_model import RidgeClassifier\n",
    "from sklearn.ensemble import AdaBoostClassifier, GradientBoostingClassifier\n",
    "from sklearn.model_selection import KFold\n",
    "from sklearn.preprocessing import scale\n",
    "from sklearn.model_selection import cross_val_score\n",
    "from sklearn.ensemble import RandomForestClassifier\n",
    "from sklearn.metrics import accuracy_score\n",
    "from vecstack import stacking\n",
    "from xgboost import XGBClassifier\n",
    "from sklearn.neural_network import MLPClassifier\n",
    "from sklearn.ensemble import ExtraTreesClassifier\n",
    "import numpy as np \n",
    "import tensorflow as tf \n",
    "import keras\n",
    "from keras.models import Sequential\n",
    "from keras.layers.core import Dense, Activation, Flatten, Dropout"
   ]
  },
  {
   "cell_type": "code",
   "execution_count": 2,
   "metadata": {},
   "outputs": [],
   "source": [
    "def load_data(filename):\n",
    "    \"\"\"\n",
    "    Function loads data stored in the file filename and returns it as a numpy ndarray.\n",
    "    \n",
    "    Inputs:\n",
    "        filename: given as a string.\n",
    "        \n",
    "    Outputs:\n",
    "        Data contained in the file, returned as a numpy ndarray\n",
    "    \"\"\"\n",
    "    return np.loadtxt(filename, skiprows=1,delimiter=' ')"
   ]
  },
  {
   "cell_type": "code",
   "execution_count": 3,
   "metadata": {},
   "outputs": [],
   "source": [
    "Xtrain = load_data('training_data.txt')[:,1:]\n",
    "ytrain = load_data('training_data.txt')[:,0]\n",
    "Xtest = load_data('test_data.txt')"
   ]
  },
  {
   "cell_type": "code",
   "execution_count": 4,
   "metadata": {},
   "outputs": [],
   "source": [
    "def classification_err(y, real_y):\n",
    "    \"\"\"\n",
    "    This function returns the classification error between two equally-sized vectors of \n",
    "    labels; this is the fraction of samples for which the labels differ.\n",
    "    \n",
    "    Inputs:\n",
    "        y: (N, ) shaped array of predicted labels\n",
    "        real_y: (N, ) shaped array of true labels\n",
    "    Output:\n",
    "        Scalar classification error\n",
    "    \"\"\" \n",
    "    clferror=0\n",
    "    for i in range(y.shape[0]):\n",
    "        if y[i] != real_y[i]:              # if predicted incorrectly\n",
    "            clferror += 1                  # error add 1\n",
    "    \n",
    "    clferror = clferror/y.shape[0]         # the classification error\n",
    "    return clferror"
   ]
  },
  {
   "cell_type": "code",
   "execution_count": 5,
   "metadata": {},
   "outputs": [],
   "source": [
    "clf1 = RidgeClassifier(alpha=130,solver='auto')\n",
    "clf2 = MLPClassifier(alpha=0.8,activation='relu')\n",
    "clf3 = LogisticRegression(C=0.06)\n",
    "clf4 = XGBClassifier(seed = 0, n_jobs = -1, learning_rate = 0.1, n_estimators = 1200)\n",
    "clf5 = NuSVC(nu=0.3) \n",
    "clf6 = MLPClassifier(hidden_layer_sizes=(60,20,10),alpha=0.8,activation='relu')\n",
    "models = [clf1,clf2,clf3,clf4,clf5,clf6]\n",
    "\n",
    "\n"
   ]
  },
  {
   "cell_type": "code",
   "execution_count": 6,
   "metadata": {},
   "outputs": [
    {
     "name": "stdout",
     "output_type": "stream",
     "text": [
      "task:       [classification]\n",
      "n_classes:  [2]\n",
      "metric:     [accuracy_score]\n",
      "mode:       [oof_pred_bag]\n",
      "n_models:   [6]\n",
      "\n",
      "model 0:    [RidgeClassifier]\n",
      "    fold 0: [0.85605758]\n",
      "    fold 1: [0.84566174]\n",
      "    fold 2: [0.84366253]\n",
      "    fold 3: [0.85160000]\n",
      "    fold 4: [0.84360000]\n",
      "    fold 5: [0.86154462]\n",
      "    fold 6: [0.84513806]\n",
      "    fold 7: [0.85394158]\n",
      "    ----\n",
      "    MEAN:   [0.85015076] + [0.00623968]\n",
      "    FULL:   [0.85015000]\n",
      "\n",
      "model 1:    [MLPClassifier]\n",
      "    fold 0: [0.85925630]\n",
      "    fold 1: [0.84606158]\n",
      "    fold 2: [0.85765694]\n",
      "    fold 3: [0.84800000]\n",
      "    fold 4: [0.83400000]\n",
      "    fold 5: [0.86474590]\n",
      "    fold 6: [0.84833934]\n",
      "    fold 7: [0.84673870]\n",
      "    ----\n",
      "    MEAN:   [0.85059984] + [0.00899844]\n",
      "    FULL:   [0.85060000]\n",
      "\n",
      "model 2:    [LogisticRegression]\n",
      "    fold 0: [0.85805678]\n",
      "    fold 1: [0.84926030]\n",
      "    fold 2: [0.84846062]\n",
      "    fold 3: [0.85320000]\n",
      "    fold 4: [0.83760000]\n",
      "    fold 5: [0.85834334]\n",
      "    fold 6: [0.85234094]\n",
      "    fold 7: [0.85154062]\n",
      "    ----\n",
      "    MEAN:   [0.85110032] + [0.00611972]\n",
      "    FULL:   [0.85110000]\n",
      "\n",
      "model 3:    [XGBClassifier]\n"
     ]
    },
    {
     "name": "stderr",
     "output_type": "stream",
     "text": [
      "E:\\Anaconda\\envs\\tensorflow\\lib\\site-packages\\sklearn\\preprocessing\\label.py:151: DeprecationWarning: The truth value of an empty array is ambiguous. Returning False, but in future this will result in an error. Use `array.size > 0` to check that an array is not empty.\n",
      "  if diff:\n",
      "E:\\Anaconda\\envs\\tensorflow\\lib\\site-packages\\sklearn\\preprocessing\\label.py:151: DeprecationWarning: The truth value of an empty array is ambiguous. Returning False, but in future this will result in an error. Use `array.size > 0` to check that an array is not empty.\n",
      "  if diff:\n"
     ]
    },
    {
     "name": "stdout",
     "output_type": "stream",
     "text": [
      "    fold 0: [0.84926030]\n"
     ]
    },
    {
     "name": "stderr",
     "output_type": "stream",
     "text": [
      "E:\\Anaconda\\envs\\tensorflow\\lib\\site-packages\\sklearn\\preprocessing\\label.py:151: DeprecationWarning: The truth value of an empty array is ambiguous. Returning False, but in future this will result in an error. Use `array.size > 0` to check that an array is not empty.\n",
      "  if diff:\n",
      "E:\\Anaconda\\envs\\tensorflow\\lib\\site-packages\\sklearn\\preprocessing\\label.py:151: DeprecationWarning: The truth value of an empty array is ambiguous. Returning False, but in future this will result in an error. Use `array.size > 0` to check that an array is not empty.\n",
      "  if diff:\n"
     ]
    },
    {
     "name": "stdout",
     "output_type": "stream",
     "text": [
      "    fold 1: [0.84566174]\n"
     ]
    },
    {
     "name": "stderr",
     "output_type": "stream",
     "text": [
      "E:\\Anaconda\\envs\\tensorflow\\lib\\site-packages\\sklearn\\preprocessing\\label.py:151: DeprecationWarning: The truth value of an empty array is ambiguous. Returning False, but in future this will result in an error. Use `array.size > 0` to check that an array is not empty.\n",
      "  if diff:\n",
      "E:\\Anaconda\\envs\\tensorflow\\lib\\site-packages\\sklearn\\preprocessing\\label.py:151: DeprecationWarning: The truth value of an empty array is ambiguous. Returning False, but in future this will result in an error. Use `array.size > 0` to check that an array is not empty.\n",
      "  if diff:\n"
     ]
    },
    {
     "name": "stdout",
     "output_type": "stream",
     "text": [
      "    fold 2: [0.85525790]\n"
     ]
    },
    {
     "name": "stderr",
     "output_type": "stream",
     "text": [
      "E:\\Anaconda\\envs\\tensorflow\\lib\\site-packages\\sklearn\\preprocessing\\label.py:151: DeprecationWarning: The truth value of an empty array is ambiguous. Returning False, but in future this will result in an error. Use `array.size > 0` to check that an array is not empty.\n",
      "  if diff:\n",
      "E:\\Anaconda\\envs\\tensorflow\\lib\\site-packages\\sklearn\\preprocessing\\label.py:151: DeprecationWarning: The truth value of an empty array is ambiguous. Returning False, but in future this will result in an error. Use `array.size > 0` to check that an array is not empty.\n",
      "  if diff:\n"
     ]
    },
    {
     "name": "stdout",
     "output_type": "stream",
     "text": [
      "    fold 3: [0.84880000]\n"
     ]
    },
    {
     "name": "stderr",
     "output_type": "stream",
     "text": [
      "E:\\Anaconda\\envs\\tensorflow\\lib\\site-packages\\sklearn\\preprocessing\\label.py:151: DeprecationWarning: The truth value of an empty array is ambiguous. Returning False, but in future this will result in an error. Use `array.size > 0` to check that an array is not empty.\n",
      "  if diff:\n",
      "E:\\Anaconda\\envs\\tensorflow\\lib\\site-packages\\sklearn\\preprocessing\\label.py:151: DeprecationWarning: The truth value of an empty array is ambiguous. Returning False, but in future this will result in an error. Use `array.size > 0` to check that an array is not empty.\n",
      "  if diff:\n"
     ]
    },
    {
     "name": "stdout",
     "output_type": "stream",
     "text": [
      "    fold 4: [0.85080000]\n"
     ]
    },
    {
     "name": "stderr",
     "output_type": "stream",
     "text": [
      "E:\\Anaconda\\envs\\tensorflow\\lib\\site-packages\\sklearn\\preprocessing\\label.py:151: DeprecationWarning: The truth value of an empty array is ambiguous. Returning False, but in future this will result in an error. Use `array.size > 0` to check that an array is not empty.\n",
      "  if diff:\n",
      "E:\\Anaconda\\envs\\tensorflow\\lib\\site-packages\\sklearn\\preprocessing\\label.py:151: DeprecationWarning: The truth value of an empty array is ambiguous. Returning False, but in future this will result in an error. Use `array.size > 0` to check that an array is not empty.\n",
      "  if diff:\n"
     ]
    },
    {
     "name": "stdout",
     "output_type": "stream",
     "text": [
      "    fold 5: [0.86074430]\n"
     ]
    },
    {
     "name": "stderr",
     "output_type": "stream",
     "text": [
      "E:\\Anaconda\\envs\\tensorflow\\lib\\site-packages\\sklearn\\preprocessing\\label.py:151: DeprecationWarning: The truth value of an empty array is ambiguous. Returning False, but in future this will result in an error. Use `array.size > 0` to check that an array is not empty.\n",
      "  if diff:\n",
      "E:\\Anaconda\\envs\\tensorflow\\lib\\site-packages\\sklearn\\preprocessing\\label.py:151: DeprecationWarning: The truth value of an empty array is ambiguous. Returning False, but in future this will result in an error. Use `array.size > 0` to check that an array is not empty.\n",
      "  if diff:\n"
     ]
    },
    {
     "name": "stdout",
     "output_type": "stream",
     "text": [
      "    fold 6: [0.84593838]\n"
     ]
    },
    {
     "name": "stderr",
     "output_type": "stream",
     "text": [
      "E:\\Anaconda\\envs\\tensorflow\\lib\\site-packages\\sklearn\\preprocessing\\label.py:151: DeprecationWarning: The truth value of an empty array is ambiguous. Returning False, but in future this will result in an error. Use `array.size > 0` to check that an array is not empty.\n",
      "  if diff:\n",
      "E:\\Anaconda\\envs\\tensorflow\\lib\\site-packages\\sklearn\\preprocessing\\label.py:151: DeprecationWarning: The truth value of an empty array is ambiguous. Returning False, but in future this will result in an error. Use `array.size > 0` to check that an array is not empty.\n",
      "  if diff:\n"
     ]
    },
    {
     "name": "stdout",
     "output_type": "stream",
     "text": [
      "    fold 7: [0.84913966]\n",
      "    ----\n",
      "    MEAN:   [0.85070028] + [0.00471496]\n",
      "    FULL:   [0.85070000]\n",
      "\n",
      "model 4:    [NuSVC]\n",
      "    fold 0: [0.85005998]\n",
      "    fold 1: [0.85405838]\n",
      "    fold 2: [0.85085966]\n",
      "    fold 3: [0.84200000]\n",
      "    fold 4: [0.83960000]\n",
      "    fold 5: [0.86074430]\n",
      "    fold 6: [0.85274110]\n",
      "    fold 7: [0.85074030]\n",
      "    ----\n",
      "    MEAN:   [0.85010046] + [0.00625294]\n",
      "    FULL:   [0.85010000]\n",
      "\n",
      "model 5:    [MLPClassifier]\n",
      "    fold 0: [0.83486605]\n",
      "    fold 1: [0.83206717]\n",
      "    fold 2: [0.82926829]\n",
      "    fold 3: [0.82640000]\n",
      "    fold 4: [0.82240000]\n",
      "    fold 5: [0.83873549]\n",
      "    fold 6: [0.81832733]\n",
      "    fold 7: [0.82232893]\n",
      "    ----\n",
      "    MEAN:   [0.82804916] + [0.00652080]\n",
      "    FULL:   [0.82805000]\n",
      "\n"
     ]
    }
   ],
   "source": [
    "S_train, S_test = stacking(models, Xtrain, ytrain, Xtest, regression = False, metric = accuracy_score, n_folds = 8, \n",
    "    stratified = True, shuffle = True, random_state = 0, verbose = 2)\n"
   ]
  },
  {
   "cell_type": "code",
   "execution_count": 139,
   "metadata": {},
   "outputs": [
    {
     "name": "stdout",
     "output_type": "stream",
     "text": [
      "Epoch 1/20\n",
      "10000/10000 [==============================] - 2s 244us/step - loss: 0.5522 - acc: 0.7962\n",
      "Epoch 2/20\n",
      "10000/10000 [==============================] - 0s 18us/step - loss: 0.4593 - acc: 0.8453\n",
      "Epoch 3/20\n",
      "10000/10000 [==============================] - 0s 17us/step - loss: 0.4171 - acc: 0.8516\n",
      "Epoch 4/20\n",
      "10000/10000 [==============================] - 0s 16us/step - loss: 0.4242 - acc: 0.8528\n",
      "Epoch 5/20\n",
      "10000/10000 [==============================] - 0s 20us/step - loss: 0.4115 - acc: 0.8528\n",
      "Epoch 6/20\n",
      "10000/10000 [==============================] - 0s 19us/step - loss: 0.4193 - acc: 0.8504\n",
      "Epoch 7/20\n",
      "10000/10000 [==============================] - 0s 15us/step - loss: 0.4093 - acc: 0.8514\n",
      "Epoch 8/20\n",
      "10000/10000 [==============================] - 0s 17us/step - loss: 0.4215 - acc: 0.8519\n",
      "Epoch 9/20\n",
      "10000/10000 [==============================] - 0s 21us/step - loss: 0.4099 - acc: 0.8515\n",
      "Epoch 10/20\n",
      "10000/10000 [==============================] - 0s 17us/step - loss: 0.4077 - acc: 0.8508\n",
      "Epoch 11/20\n",
      "10000/10000 [==============================] - 0s 16us/step - loss: 0.4033 - acc: 0.8510\n",
      "Epoch 12/20\n",
      "10000/10000 [==============================] - 0s 19us/step - loss: 0.4064 - acc: 0.8516\n",
      "Epoch 13/20\n",
      "10000/10000 [==============================] - 0s 19us/step - loss: 0.4158 - acc: 0.8505\n",
      "Epoch 14/20\n",
      "10000/10000 [==============================] - 0s 16us/step - loss: 0.4112 - acc: 0.8510\n",
      "Epoch 15/20\n",
      "10000/10000 [==============================] - 0s 16us/step - loss: 0.4074 - acc: 0.8516\n",
      "Epoch 16/20\n",
      "10000/10000 [==============================] - 0s 22us/step - loss: 0.4091 - acc: 0.8511\n",
      "Epoch 17/20\n",
      "10000/10000 [==============================] - 0s 18us/step - loss: 0.4199 - acc: 0.8508\n",
      "Epoch 18/20\n",
      "10000/10000 [==============================] - 0s 17us/step - loss: 0.4055 - acc: 0.8519\n",
      "Epoch 19/20\n",
      "10000/10000 [==============================] - 0s 21us/step - loss: 0.4122 - acc: 0.8515\n",
      "Epoch 20/20\n",
      "10000/10000 [==============================] - 0s 15us/step - loss: 0.4093 - acc: 0.8529\n",
      "10000/10000 [==============================] - 1s 128us/step\n",
      "Validation score: 0.36988686838150026\n",
      "Validation accuracy: 0.8631\n",
      "0.1369\n",
      "0.85756\n"
     ]
    }
   ],
   "source": [
    "idx = np.random.permutation(S_train.shape[0])\n",
    "StrainN= S_train[idx]\n",
    "ytrainN = ytrain[idx]\n",
    "Str = StrainN[0:10000,:]\n",
    "ytr = ytrainN[0:10000]\n",
    "Sval = StrainN[10000:20001,:]\n",
    "yval = ytrainN[10000:20001]\n",
    "\n",
    "neural = Sequential()\n",
    "neural.add(Dense(25,input_dim=Str.shape[1]))\n",
    "neural.add(Activation('linear'))\n",
    "neural.add(Dense(15))\n",
    "neural.add(Activation('linear'))\n",
    "neural.add(Dropout(0.3))\n",
    "# The output layer\n",
    "neural.add(Dense(1))\n",
    "neural.add(Activation('hard_sigmoid'))\n",
    "\n",
    "neural.compile(loss='binary_crossentropy',optimizer='rmsprop', metrics=['accuracy'])\n",
    "\n",
    "fit = neural.fit(Str, ytr, batch_size = 128, epochs = 20, verbose=1)\n",
    "\n",
    "scores = neural.evaluate(Sval,yval)\n",
    "print('Validation score:', scores[0])\n",
    "print('Validation accuracy:', scores[1])\n",
    "\n",
    "error=np.array([])\n",
    "for i in range(10):\n",
    "    idx = np.random.permutation(S_train.shape[0])\n",
    "    StrainN= S_train[idx]\n",
    "    ytrainN = ytrain[idx]\n",
    "    Str = StrainN[0:10000,:]\n",
    "    ytr = ytrainN[0:10000]\n",
    "    Sval = StrainN[10000:20001,:]\n",
    "    yval = ytrainN[10000:20001]\n",
    "    pred = neural.predict(Sval)\n",
    "    rounded = [round(x[0]) for x in pred]\n",
    "    pred = [ int(x) for x in rounded ]\n",
    "    pred = np.asarray(pred)\n",
    "    err = classification_err(pred, yval)\n",
    "    error = np.append(error,err)\n",
    "print(1-np.mean(error))"
   ]
  },
  {
   "cell_type": "code",
   "execution_count": 140,
   "metadata": {},
   "outputs": [
    {
     "name": "stdout",
     "output_type": "stream",
     "text": [
      "(10000, 2)\n"
     ]
    }
   ],
   "source": [
    "# pred3 = neural.predict(S_test)\n",
    "# rounded = [round(x[0]) for x in pred3]\n",
    "# pred3 = [ int(x) for x in rounded ]\n",
    "# pred3 = np.asarray(pred3)\n",
    "# ID = np.arange(1,10001)\n",
    "# out = np.column_stack((ID,pred3))\n",
    "# print(out.shape)\n",
    "# np.savetxt('neural4.txt', out, delimiter=',',fmt=\"%d\")"
   ]
  },
  {
   "cell_type": "code",
   "execution_count": null,
   "metadata": {},
   "outputs": [],
   "source": []
  }
 ],
 "metadata": {
  "kernelspec": {
   "display_name": "Python 3",
   "language": "python",
   "name": "python3"
  },
  "language_info": {
   "codemirror_mode": {
    "name": "ipython",
    "version": 3
   },
   "file_extension": ".py",
   "mimetype": "text/x-python",
   "name": "python",
   "nbconvert_exporter": "python",
   "pygments_lexer": "ipython3",
   "version": "3.6.4"
  }
 },
 "nbformat": 4,
 "nbformat_minor": 2
}
